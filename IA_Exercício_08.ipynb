{
  "cells": [
    {
      "cell_type": "markdown",
      "metadata": {
        "id": "m5tVff4dgKyg"
      },
      "source": [
        "# Treinamento"
      ]
    },
    {
      "cell_type": "markdown",
      "metadata": {
        "id": "P8xB4G8ogKym"
      },
      "source": [
        "### Carregando Arquivo de Treinamento (.csv)"
      ]
    },
    {
      "cell_type": "code",
      "execution_count": 115,
      "metadata": {
        "colab": {
          "base_uri": "https://localhost:8080/"
        },
        "id": "a5MRh5ZfgKyn",
        "outputId": "fdefd9a4-f8c2-4052-884a-b6122ec130f4"
      },
      "outputs": [
        {
          "output_type": "stream",
          "name": "stdout",
          "text": [
            "---------------------------------\n",
            "Dados dos Pacientes - TREINAMENTO\n",
            "---------------------------------\n",
            "[[  6.    148.     72.    ...   0.627  50.      1.   ]\n",
            " [  1.     85.     66.    ...   0.351  31.      0.   ]\n",
            " [  8.    183.     64.    ...   0.672  32.      1.   ]\n",
            " ...\n",
            " [  5.    121.     72.    ...   0.245  30.      0.   ]\n",
            " [  1.    126.     60.    ...   0.349  47.      1.   ]\n",
            " [  1.     93.     70.    ...   0.315  23.      0.   ]]\n",
            "---------------------------------\n",
            "Atributos de Entrada\n",
            "---------------------------------\n",
            "[[  6.    148.     72.    ...  33.6     0.627  50.   ]\n",
            " [  1.     85.     66.    ...  26.6     0.351  31.   ]\n",
            " [  8.    183.     64.    ...  23.3     0.672  32.   ]\n",
            " ...\n",
            " [  5.    121.     72.    ...  26.2     0.245  30.   ]\n",
            " [  1.    126.     60.    ...  30.1     0.349  47.   ]\n",
            " [  1.     93.     70.    ...  30.4     0.315  23.   ]]\n",
            "----------------------------\n",
            "Classificação Supervisionada\n",
            "----------------------------\n",
            "[1. 0. 1. 0. 1. 0. 1. 0. 1. 1. 0. 1. 0. 1. 1. 1. 1. 1. 0. 1. 0. 0. 1. 1.\n",
            " 1. 1. 1. 0. 0. 0. 0. 1. 0. 0. 0. 0. 0. 1. 1. 1. 0. 0. 0. 1. 0. 1. 0. 0.\n",
            " 1. 0. 0. 0. 0. 1. 0. 0. 1. 0. 0. 0. 0. 1. 0. 0. 1. 0. 1. 0. 0. 0. 1. 0.\n",
            " 1. 0. 0. 0. 0. 0. 1. 0. 0. 0. 0. 0. 1. 0. 0. 0. 1. 0. 0. 0. 0. 1. 0. 0.\n",
            " 0. 0. 0. 1. 1. 0. 0. 0. 0. 0. 0. 0. 0. 1. 1. 1. 0. 0. 1. 1. 1. 0. 0. 0.\n",
            " 1. 0. 0. 0. 1. 1. 0. 0. 1. 1. 1. 1. 1. 0. 0. 0. 0. 0. 0. 0. 0. 0. 0. 1.\n",
            " 0. 0. 0. 0. 0. 0. 0. 0. 1. 0. 1. 1. 0. 0. 0. 1. 0. 0. 0. 0. 1. 1. 0. 0.\n",
            " 0. 0. 1. 1. 0. 0. 0. 1. 0. 1. 0. 1. 0. 0. 0. 0. 0. 1. 1. 1. 1. 1. 0. 0.\n",
            " 1. 1. 0. 1. 0. 1. 1. 1. 0. 0. 0. 0. 0. 0. 1. 1. 0. 1. 0. 0. 0. 1. 1. 1.\n",
            " 1. 0. 1. 1. 1. 1. 0. 0. 0. 0. 0. 1. 0. 0. 1. 1. 0. 0. 0. 1. 1. 1. 1. 0.\n",
            " 0. 0. 1. 1. 0. 1. 0. 0. 0. 0. 0. 0. 0. 0. 1. 1. 0. 0. 0. 1. 0. 1. 0. 0.\n",
            " 1. 0. 1. 0. 0. 1. 1. 0. 0. 0. 0. 0. 1. 0. 0. 0. 1. 0. 0. 1. 1. 0. 0. 1.\n",
            " 0. 0. 0. 1. 1. 1. 0. 0. 1. 0. 1. 0. 1. 1. 0. 1. 0. 0. 1. 0. 1. 1. 0. 0.\n",
            " 1. 0. 1. 0. 0. 1. 0. 1. 0. 1. 1. 1. 0. 0. 1. 0. 1. 0. 0. 0. 1. 0. 0. 0.\n",
            " 0. 1. 1. 1. 0. 0. 0. 0. 0. 0. 0. 0. 0. 1. 0. 0. 0. 0. 0. 1. 1. 1. 0. 1.\n",
            " 1. 0. 0. 1. 0. 0. 1. 0. 0. 1. 1. 0. 0. 0. 0. 1. 0. 0. 1. 0. 0. 0. 0. 0.\n",
            " 0. 0. 1. 1. 1. 0. 0. 1. 0. 0. 1. 0. 0. 1. 0. 1. 1. 0. 1. 0. 1. 0. 1. 0.\n",
            " 1. 1. 0. 0. 0. 0. 1. 1. 0. 1. 0. 1. 0. 0. 0. 0. 1. 1. 0. 1. 0. 1. 0. 0.\n",
            " 0. 0. 0. 1. 0. 0. 0. 0. 1. 0. 0. 1. 1. 1. 0. 0. 1. 0. 0. 1. 0. 0. 0. 1.\n",
            " 0. 0. 1. 0. 0. 0. 0. 0. 0. 0. 0. 0. 1. 0. 0. 0. 0. 0. 0. 0. 1. 0. 0. 0.\n",
            " 1. 0. 0. 0. 1. 1. 0. 0. 0. 0. 0. 0. 0. 1. 0. 0. 0. 0. 1. 0. 0. 0. 1. 0.\n",
            " 0. 0. 1. 0. 0. 0. 1. 0. 0. 0. 0. 1. 1. 0. 0. 0. 0. 0. 0. 1. 0. 0. 0. 0.\n",
            " 0. 0. 0. 0. 0. 0. 0. 1. 0. 0. 0. 1. 1. 1. 1. 0. 0. 1. 1. 0. 0. 0. 0. 0.\n",
            " 0. 0. 0. 0. 0. 0. 0. 0. 1. 1. 0. 0. 0. 0. 0. 0. 0. 1. 0. 0. 0. 0. 0. 0.\n",
            " 0. 1. 0. 1. 1. 0. 0. 0. 1. 0. 1. 0. 1. 0. 1. 0. 1. 0. 0. 1. 0. 0. 1. 0.\n",
            " 0. 0. 0. 1. 1. 0. 1. 0. 0. 0. 0. 1. 1. 0. 1. 0. 0. 0. 1. 1. 0. 0. 0. 0.\n",
            " 0. 0. 0. 0. 0. 0. 1. 0. 0. 0. 0. 1. 0. 0. 1. 0. 0. 0. 1. 0. 0. 0. 1. 1.\n",
            " 1. 0. 0. 0. 0. 0. 0. 1. 0. 0. 0. 1. 0. 1. 1. 1. 1. 0. 1. 1. 0. 0. 0. 0.\n",
            " 0. 0. 0. 1. 1. 0. 1. 0. 0. 1. 0. 1. 0. 0. 0. 0. 0. 1. 0. 1. 0. 1. 0. 1.\n",
            " 1. 0. 0. 0. 0. 1. 1. 0. 0. 0. 1. 0. 1. 1. 0. 0. 1. 0. 0. 1. 1. 0. 0. 1.\n",
            " 0. 0. 1. 0. 0. 0. 0. 0. 0. 0. 1. 1. 1. 0. 0. 0. 0. 0. 0. 1. 1. 0. 0. 1.\n",
            " 0. 0. 1. 1. 1. 0. 0. 1. 1. 1. 0. 1. 0. 1. 0. 1. 0. 0. 0. 0. 1. 0.]\n"
          ]
        }
      ],
      "source": [
        "import pandas as pd\n",
        "# Carregando dados do arquivo CSV\n",
        "url = 'https://raw.githubusercontent.com/Kendy619/Perceptron-for-diabetes-disease/main/diabetes.csv'\n",
        "base_Treinamento = pd.read_csv(url,sep=',', encoding = 'latin1').values\n",
        "print(\"---------------------------------\")\n",
        "print(\"Dados dos Pacientes - TREINAMENTO\")\n",
        "print(\"---------------------------------\")\n",
        "print(base_Treinamento)\n",
        "print(\"---------------------------------\")\n",
        "\n",
        "# Extração dos Atributos a serem utilizadas pela rede\n",
        "print(\"Atributos de Entrada\")\n",
        "print(\"---------------------------------\")\n",
        "print(base_Treinamento[:, 0:8])\n",
        "\n",
        "print(\"----------------------------\")\n",
        "print(\"Classificação Supervisionada\")\n",
        "print(\"----------------------------\")\n",
        "print(base_Treinamento[:, 8])"
      ]
    },
    {
      "cell_type": "markdown",
      "metadata": {
        "id": "ZPpDXy7cgKyp"
      },
      "source": [
        "### Pré-processamento de Dados"
      ]
    },
    {
      "cell_type": "code",
      "execution_count": 116,
      "metadata": {
        "colab": {
          "base_uri": "https://localhost:8080/"
        },
        "id": "L4nvyQJegKyq",
        "outputId": "5128a869-fded-44a1-d2d6-5699a3bdfb4d"
      },
      "outputs": [
        {
          "output_type": "stream",
          "name": "stdout",
          "text": [
            "--------------------------------\n",
            "Atributos de Entrada - Numéricos\n",
            "--------------------------------\n",
            "[[0.35294118 0.74371859 0.59016393 ... 0.50074516 0.23441503 0.48333333]\n",
            " [0.05882353 0.42713568 0.54098361 ... 0.39642325 0.11656704 0.16666667]\n",
            " [0.47058824 0.91959799 0.52459016 ... 0.34724292 0.25362938 0.18333333]\n",
            " ...\n",
            " [0.29411765 0.6080402  0.59016393 ... 0.390462   0.07130658 0.15      ]\n",
            " [0.05882353 0.63316583 0.49180328 ... 0.4485842  0.11571307 0.43333333]\n",
            " [0.05882353 0.46733668 0.57377049 ... 0.45305514 0.10119556 0.03333333]]\n",
            "----------------------------------------\n",
            "Classificação Supervisionada - Numéricos\n",
            "----------------------------------------\n",
            "[1. 0. 1. 0. 1. 0. 1. 0. 1. 1. 0. 1. 0. 1. 1. 1. 1. 1. 0. 1. 0. 0. 1. 1.\n",
            " 1. 1. 1. 0. 0. 0. 0. 1. 0. 0. 0. 0. 0. 1. 1. 1. 0. 0. 0. 1. 0. 1. 0. 0.\n",
            " 1. 0. 0. 0. 0. 1. 0. 0. 1. 0. 0. 0. 0. 1. 0. 0. 1. 0. 1. 0. 0. 0. 1. 0.\n",
            " 1. 0. 0. 0. 0. 0. 1. 0. 0. 0. 0. 0. 1. 0. 0. 0. 1. 0. 0. 0. 0. 1. 0. 0.\n",
            " 0. 0. 0. 1. 1. 0. 0. 0. 0. 0. 0. 0. 0. 1. 1. 1. 0. 0. 1. 1. 1. 0. 0. 0.\n",
            " 1. 0. 0. 0. 1. 1. 0. 0. 1. 1. 1. 1. 1. 0. 0. 0. 0. 0. 0. 0. 0. 0. 0. 1.\n",
            " 0. 0. 0. 0. 0. 0. 0. 0. 1. 0. 1. 1. 0. 0. 0. 1. 0. 0. 0. 0. 1. 1. 0. 0.\n",
            " 0. 0. 1. 1. 0. 0. 0. 1. 0. 1. 0. 1. 0. 0. 0. 0. 0. 1. 1. 1. 1. 1. 0. 0.\n",
            " 1. 1. 0. 1. 0. 1. 1. 1. 0. 0. 0. 0. 0. 0. 1. 1. 0. 1. 0. 0. 0. 1. 1. 1.\n",
            " 1. 0. 1. 1. 1. 1. 0. 0. 0. 0. 0. 1. 0. 0. 1. 1. 0. 0. 0. 1. 1. 1. 1. 0.\n",
            " 0. 0. 1. 1. 0. 1. 0. 0. 0. 0. 0. 0. 0. 0. 1. 1. 0. 0. 0. 1. 0. 1. 0. 0.\n",
            " 1. 0. 1. 0. 0. 1. 1. 0. 0. 0. 0. 0. 1. 0. 0. 0. 1. 0. 0. 1. 1. 0. 0. 1.\n",
            " 0. 0. 0. 1. 1. 1. 0. 0. 1. 0. 1. 0. 1. 1. 0. 1. 0. 0. 1. 0. 1. 1. 0. 0.\n",
            " 1. 0. 1. 0. 0. 1. 0. 1. 0. 1. 1. 1. 0. 0. 1. 0. 1. 0. 0. 0. 1. 0. 0. 0.\n",
            " 0. 1. 1. 1. 0. 0. 0. 0. 0. 0. 0. 0. 0. 1. 0. 0. 0. 0. 0. 1. 1. 1. 0. 1.\n",
            " 1. 0. 0. 1. 0. 0. 1. 0. 0. 1. 1. 0. 0. 0. 0. 1. 0. 0. 1. 0. 0. 0. 0. 0.\n",
            " 0. 0. 1. 1. 1. 0. 0. 1. 0. 0. 1. 0. 0. 1. 0. 1. 1. 0. 1. 0. 1. 0. 1. 0.\n",
            " 1. 1. 0. 0. 0. 0. 1. 1. 0. 1. 0. 1. 0. 0. 0. 0. 1. 1. 0. 1. 0. 1. 0. 0.\n",
            " 0. 0. 0. 1. 0. 0. 0. 0. 1. 0. 0. 1. 1. 1. 0. 0. 1. 0. 0. 1. 0. 0. 0. 1.\n",
            " 0. 0. 1. 0. 0. 0. 0. 0. 0. 0. 0. 0. 1. 0. 0. 0. 0. 0. 0. 0. 1. 0. 0. 0.\n",
            " 1. 0. 0. 0. 1. 1. 0. 0. 0. 0. 0. 0. 0. 1. 0. 0. 0. 0. 1. 0. 0. 0. 1. 0.\n",
            " 0. 0. 1. 0. 0. 0. 1. 0. 0. 0. 0. 1. 1. 0. 0. 0. 0. 0. 0. 1. 0. 0. 0. 0.\n",
            " 0. 0. 0. 0. 0. 0. 0. 1. 0. 0. 0. 1. 1. 1. 1. 0. 0. 1. 1. 0. 0. 0. 0. 0.\n",
            " 0. 0. 0. 0. 0. 0. 0. 0. 1. 1. 0. 0. 0. 0. 0. 0. 0. 1. 0. 0. 0. 0. 0. 0.\n",
            " 0. 1. 0. 1. 1. 0. 0. 0. 1. 0. 1. 0. 1. 0. 1. 0. 1. 0. 0. 1. 0. 0. 1. 0.\n",
            " 0. 0. 0. 1. 1. 0. 1. 0. 0. 0. 0. 1. 1. 0. 1. 0. 0. 0. 1. 1. 0. 0. 0. 0.\n",
            " 0. 0. 0. 0. 0. 0. 1. 0. 0. 0. 0. 1. 0. 0. 1. 0. 0. 0. 1. 0. 0. 0. 1. 1.\n",
            " 1. 0. 0. 0. 0. 0. 0. 1. 0. 0. 0. 1. 0. 1. 1. 1. 1. 0. 1. 1. 0. 0. 0. 0.\n",
            " 0. 0. 0. 1. 1. 0. 1. 0. 0. 1. 0. 1. 0. 0. 0. 0. 0. 1. 0. 1. 0. 1. 0. 1.\n",
            " 1. 0. 0. 0. 0. 1. 1. 0. 0. 0. 1. 0. 1. 1. 0. 0. 1. 0. 0. 1. 1. 0. 0. 1.\n",
            " 0. 0. 1. 0. 0. 0. 0. 0. 0. 0. 1. 1. 1. 0. 0. 0. 0. 0. 0. 1. 1. 0. 0. 1.\n",
            " 0. 0. 1. 1. 1. 0. 0. 1. 1. 1. 0. 1. 0. 1. 0. 1. 0. 0. 0. 0. 1. 0.]\n"
          ]
        }
      ],
      "source": [
        "import numpy as np \n",
        "from sklearn import preprocessing\n",
        "\n",
        "# Binarizador de rótulo\n",
        "lb = preprocessing.LabelBinarizer()\n",
        "escaler = preprocessing.MinMaxScaler()\n",
        "\n",
        "# Pregnancies\n",
        "  \n",
        "pregnancies = escaler.fit_transform(np.array(base_Treinamento[:, 0]).reshape(-1,1))\n",
        "\n",
        "\n",
        "# Glucose\n",
        "\n",
        "glucose = escaler.fit_transform(np.array(base_Treinamento[:, 1]).reshape(-1,1))\n",
        "\n",
        "# BloodPressure\n",
        "\n",
        "bloodpressure = escaler.fit_transform(np.array(base_Treinamento[:, 2]).reshape(-1,1))\n",
        "\n",
        "# SkinThickness\n",
        "\n",
        "skinthickness = escaler.fit_transform(np.array(base_Treinamento[:, 3]).reshape(-1,1))\n",
        "\n",
        "# Insulin\n",
        "\n",
        "insulin = escaler.fit_transform(np.array(base_Treinamento[:, 4]).reshape(-1,1))\n",
        "\n",
        "\n",
        "# BMI\n",
        "#bmi = lb.transform(base_Treinamento[:,5])   #NUMEROS DO TIPO FLOAT NÃO SÃO SUPORTADOS\n",
        "bmi = escaler.fit_transform(np.array(base_Treinamento[:, 5]).reshape(-1,1))\n",
        "\n",
        "# DiabetesPedigreeFunction\n",
        "#diabetespedigreefunction = lb.transform(base_Treinamento[:,6])   #NUMEROS DO TIPO FLOAT NÃO SÃO SUPORTADOS\n",
        "diabetespedigreefunction = escaler.fit_transform(np.array(base_Treinamento[:, 6]).reshape(-1,1))\n",
        "\n",
        "# Age\n",
        "\n",
        "age = escaler.fit_transform(np.array(base_Treinamento[:, 7]).reshape(-1,1))\n",
        "\n",
        "# Separete classes\n",
        "classes = base_Treinamento[:,8]\n",
        "\n",
        "#Concatenação de Atributos (Colunas) \n",
        "atributos_norm = np.column_stack((pregnancies, glucose, bloodpressure, skinthickness, insulin, bmi, diabetespedigreefunction, age))\n",
        "\n",
        "print(\"--------------------------------\")\n",
        "print(\"Atributos de Entrada - Numéricos\")\n",
        "print(\"--------------------------------\")\n",
        "print(atributos_norm)\n",
        "\n",
        "print(\"----------------------------------------\")\n",
        "print(\"Classificação Supervisionada - Numéricos\")\n",
        "print(\"----------------------------------------\")\n",
        "diagnostico_norm = np.hstack((classes))\n",
        "print(diagnostico_norm)"
      ]
    },
    {
      "cell_type": "markdown",
      "metadata": {
        "id": "GC4FUfD5gKyr"
      },
      "source": [
        "### Treinamento do Neurônio Perceptron"
      ]
    },
    {
      "cell_type": "code",
      "execution_count": 117,
      "metadata": {
        "colab": {
          "base_uri": "https://localhost:8080/"
        },
        "id": "kDmPLB5FgKys",
        "outputId": "b693540b-106c-4860-be4f-1341ae53dd10"
      },
      "outputs": [
        {
          "output_type": "stream",
          "name": "stdout",
          "text": [
            "Acurácia: 0.629\n"
          ]
        }
      ],
      "source": [
        "from sklearn.linear_model import Perceptron\n",
        "\n",
        "# Treinamento do Perceptron a partir dos atributos de entrada e classificações\n",
        "modelo = Perceptron()\n",
        "modelo.fit(atributos_norm, diagnostico_norm)\n",
        "\n",
        "print('Acurácia: %.3f' % modelo.score(atributos_norm, diagnostico_norm))"
      ]
    },
    {
      "cell_type": "markdown",
      "metadata": {
        "id": "HMwrAoNwgKyt"
      },
      "source": [
        "### ----------------------------------------------------------------------------"
      ]
    },
    {
      "cell_type": "markdown",
      "metadata": {
        "id": "6UKPw4jagKyu"
      },
      "source": [
        "# Validação do Aprendizado "
      ]
    },
    {
      "cell_type": "markdown",
      "metadata": {
        "id": "0tUmMoPHgKyv"
      },
      "source": [
        "### Predição Simples"
      ]
    },
    {
      "cell_type": "code",
      "execution_count": 118,
      "metadata": {
        "colab": {
          "base_uri": "https://localhost:8080/"
        },
        "id": "W4MRpx9PgKyw",
        "outputId": "dd35c2a6-1423-4f9a-ce07-cf292051f015"
      },
      "outputs": [
        {
          "output_type": "stream",
          "name": "stdout",
          "text": [
            "Luiz [1.]\n",
            "Dosea [1.]\n"
          ]
        }
      ],
      "source": [
        "Luiz = [[6,148,72,35,0,33.6,0.627,50]]\n",
        "print(\"Luiz\", modelo.predict(Luiz))\n",
        "Dosea= [[1,85,66,29,0,26.6,0.351,31]]\n",
        "print(\"Dosea\", modelo.predict(Dosea))"
      ]
    },
    {
      "cell_type": "markdown",
      "metadata": {
        "id": "VweXD-8_gKyx"
      },
      "source": [
        "### Predição a partir de base de dados (.csv)"
      ]
    },
    {
      "cell_type": "code",
      "execution_count": 119,
      "metadata": {
        "colab": {
          "base_uri": "https://localhost:8080/"
        },
        "id": "ceg0-DfVgKyx",
        "outputId": "5f0214e5-6b1d-4d61-806a-24d896e922c3"
      },
      "outputs": [
        {
          "output_type": "stream",
          "name": "stdout",
          "text": [
            "----------------------------\n",
            "Dados dos Pacientes - TESTES\n",
            "----------------------------\n",
            "[[1.000e+00 8.100e+01 7.400e+01 4.100e+01 5.700e+01 4.630e+01 1.096e+00\n",
            "  3.200e+01 0.000e+00]\n",
            " [3.000e+00 1.870e+02 7.000e+01 2.200e+01 2.000e+02 3.640e+01 4.080e-01\n",
            "  3.600e+01 1.000e+00]\n",
            " [6.000e+00 1.620e+02 6.200e+01 0.000e+00 0.000e+00 2.430e+01 1.780e-01\n",
            "  5.000e+01 1.000e+00]\n",
            " [4.000e+00 1.360e+02 7.000e+01 0.000e+00 0.000e+00 3.120e+01 1.182e+00\n",
            "  2.200e+01 1.000e+00]\n",
            " [1.000e+00 1.210e+02 7.800e+01 3.900e+01 7.400e+01 3.900e+01 2.610e-01\n",
            "  2.800e+01 0.000e+00]\n",
            " [3.000e+00 1.080e+02 6.200e+01 2.400e+01 0.000e+00 2.600e+01 2.230e-01\n",
            "  2.500e+01 0.000e+00]\n",
            " [0.000e+00 1.810e+02 8.800e+01 4.400e+01 5.100e+02 4.330e+01 2.220e-01\n",
            "  2.600e+01 1.000e+00]\n",
            " [8.000e+00 1.540e+02 7.800e+01 3.200e+01 0.000e+00 3.240e+01 4.430e-01\n",
            "  4.500e+01 1.000e+00]\n",
            " [1.000e+00 1.280e+02 8.800e+01 3.900e+01 1.100e+02 3.650e+01 1.057e+00\n",
            "  3.700e+01 1.000e+00]\n",
            " [7.000e+00 1.370e+02 9.000e+01 4.100e+01 0.000e+00 3.200e+01 3.910e-01\n",
            "  3.900e+01 0.000e+00]\n",
            " [0.000e+00 1.230e+02 7.200e+01 0.000e+00 0.000e+00 3.630e+01 2.580e-01\n",
            "  5.200e+01 1.000e+00]\n",
            " [1.000e+00 1.060e+02 7.600e+01 0.000e+00 0.000e+00 3.750e+01 1.970e-01\n",
            "  2.600e+01 0.000e+00]\n",
            " [6.000e+00 1.900e+02 9.200e+01 0.000e+00 0.000e+00 3.550e+01 2.780e-01\n",
            "  6.600e+01 1.000e+00]\n",
            " [2.000e+00 8.800e+01 5.800e+01 2.600e+01 1.600e+01 2.840e+01 7.660e-01\n",
            "  2.200e+01 0.000e+00]\n",
            " [9.000e+00 1.700e+02 7.400e+01 3.100e+01 0.000e+00 4.400e+01 4.030e-01\n",
            "  4.300e+01 1.000e+00]\n",
            " [9.000e+00 8.900e+01 6.200e+01 0.000e+00 0.000e+00 2.250e+01 1.420e-01\n",
            "  3.300e+01 0.000e+00]\n",
            " [1.000e+01 1.010e+02 7.600e+01 4.800e+01 1.800e+02 3.290e+01 1.710e-01\n",
            "  6.300e+01 0.000e+00]\n",
            " [2.000e+00 1.220e+02 7.000e+01 2.700e+01 0.000e+00 3.680e+01 3.400e-01\n",
            "  2.700e+01 0.000e+00]\n",
            " [5.000e+00 1.210e+02 7.200e+01 2.300e+01 1.120e+02 2.620e+01 2.450e-01\n",
            "  3.000e+01 0.000e+00]\n",
            " [1.000e+00 1.260e+02 6.000e+01 0.000e+00 0.000e+00 3.010e+01 3.490e-01\n",
            "  4.700e+01 1.000e+00]\n",
            " [1.000e+00 9.300e+01 7.000e+01 3.100e+01 0.000e+00 3.040e+01 3.150e-01\n",
            "  2.300e+01 0.000e+00]]\n",
            "---------------------------------\n",
            "Atributos de Entrada\n",
            "---------------------------------\n",
            "[[1.000e+00 8.100e+01 7.400e+01 4.100e+01 5.700e+01 4.630e+01 1.096e+00\n",
            "  3.200e+01]\n",
            " [3.000e+00 1.870e+02 7.000e+01 2.200e+01 2.000e+02 3.640e+01 4.080e-01\n",
            "  3.600e+01]\n",
            " [6.000e+00 1.620e+02 6.200e+01 0.000e+00 0.000e+00 2.430e+01 1.780e-01\n",
            "  5.000e+01]\n",
            " [4.000e+00 1.360e+02 7.000e+01 0.000e+00 0.000e+00 3.120e+01 1.182e+00\n",
            "  2.200e+01]\n",
            " [1.000e+00 1.210e+02 7.800e+01 3.900e+01 7.400e+01 3.900e+01 2.610e-01\n",
            "  2.800e+01]\n",
            " [3.000e+00 1.080e+02 6.200e+01 2.400e+01 0.000e+00 2.600e+01 2.230e-01\n",
            "  2.500e+01]\n",
            " [0.000e+00 1.810e+02 8.800e+01 4.400e+01 5.100e+02 4.330e+01 2.220e-01\n",
            "  2.600e+01]\n",
            " [8.000e+00 1.540e+02 7.800e+01 3.200e+01 0.000e+00 3.240e+01 4.430e-01\n",
            "  4.500e+01]\n",
            " [1.000e+00 1.280e+02 8.800e+01 3.900e+01 1.100e+02 3.650e+01 1.057e+00\n",
            "  3.700e+01]\n",
            " [7.000e+00 1.370e+02 9.000e+01 4.100e+01 0.000e+00 3.200e+01 3.910e-01\n",
            "  3.900e+01]\n",
            " [0.000e+00 1.230e+02 7.200e+01 0.000e+00 0.000e+00 3.630e+01 2.580e-01\n",
            "  5.200e+01]\n",
            " [1.000e+00 1.060e+02 7.600e+01 0.000e+00 0.000e+00 3.750e+01 1.970e-01\n",
            "  2.600e+01]\n",
            " [6.000e+00 1.900e+02 9.200e+01 0.000e+00 0.000e+00 3.550e+01 2.780e-01\n",
            "  6.600e+01]\n",
            " [2.000e+00 8.800e+01 5.800e+01 2.600e+01 1.600e+01 2.840e+01 7.660e-01\n",
            "  2.200e+01]\n",
            " [9.000e+00 1.700e+02 7.400e+01 3.100e+01 0.000e+00 4.400e+01 4.030e-01\n",
            "  4.300e+01]\n",
            " [9.000e+00 8.900e+01 6.200e+01 0.000e+00 0.000e+00 2.250e+01 1.420e-01\n",
            "  3.300e+01]\n",
            " [1.000e+01 1.010e+02 7.600e+01 4.800e+01 1.800e+02 3.290e+01 1.710e-01\n",
            "  6.300e+01]\n",
            " [2.000e+00 1.220e+02 7.000e+01 2.700e+01 0.000e+00 3.680e+01 3.400e-01\n",
            "  2.700e+01]\n",
            " [5.000e+00 1.210e+02 7.200e+01 2.300e+01 1.120e+02 2.620e+01 2.450e-01\n",
            "  3.000e+01]\n",
            " [1.000e+00 1.260e+02 6.000e+01 0.000e+00 0.000e+00 3.010e+01 3.490e-01\n",
            "  4.700e+01]\n",
            " [1.000e+00 9.300e+01 7.000e+01 3.100e+01 0.000e+00 3.040e+01 3.150e-01\n",
            "  2.300e+01]]\n"
          ]
        }
      ],
      "source": [
        "import pandas as pd\n",
        "# Carregando dados do arquivo CSV\n",
        "url = 'https://raw.githubusercontent.com/Kendy619/Perceptron-for-diabetes-disease/main/teste.csv'\n",
        "base_Testes = pd.read_csv(url,sep=',', encoding = 'latin1').values\n",
        "print(\"----------------------------\")\n",
        "print(\"Dados dos Pacientes - TESTES\")\n",
        "print(\"----------------------------\")\n",
        "print(base_Testes)\n",
        "print(\"---------------------------------\")\n",
        "\n",
        "# Extração dos Atributos a serem utilizadas pela rede\n",
        "print(\"Atributos de Entrada\")\n",
        "print(\"---------------------------------\")\n",
        "print(base_Testes[:, 0:8])"
      ]
    },
    {
      "cell_type": "markdown",
      "metadata": {
        "id": "g6JQnLaEgKyx"
      },
      "source": [
        "### Pré-processamento de Dados"
      ]
    },
    {
      "cell_type": "code",
      "execution_count": 120,
      "metadata": {
        "colab": {
          "base_uri": "https://localhost:8080/"
        },
        "id": "SJM8C3IDgKyy",
        "outputId": "5a7de9ca-e28f-407e-b087-ad2551c1e640"
      },
      "outputs": [
        {
          "output_type": "stream",
          "name": "stdout",
          "text": [
            "--------------------------------\n",
            "Atributos de Entrada - Numéricos\n",
            "--------------------------------\n",
            "[[0.1        0.         0.47058824 0.85416667 0.11176471 1.\n",
            "  0.91730769 0.22727273]\n",
            " [0.3        0.97247706 0.35294118 0.45833333 0.39215686 0.58403361\n",
            "  0.25576923 0.31818182]\n",
            " [0.6        0.74311927 0.11764706 0.         0.         0.07563025\n",
            "  0.03461538 0.63636364]\n",
            " [0.4        0.50458716 0.35294118 0.         0.         0.36554622\n",
            "  1.         0.        ]\n",
            " [0.1        0.36697248 0.58823529 0.8125     0.14509804 0.69327731\n",
            "  0.11442308 0.13636364]\n",
            " [0.3        0.24770642 0.11764706 0.5        0.         0.14705882\n",
            "  0.07788462 0.06818182]\n",
            " [0.         0.91743119 0.88235294 0.91666667 1.         0.87394958\n",
            "  0.07692308 0.09090909]\n",
            " [0.8        0.66972477 0.58823529 0.66666667 0.         0.41596639\n",
            "  0.28942308 0.52272727]\n",
            " [0.1        0.43119266 0.88235294 0.8125     0.21568627 0.58823529\n",
            "  0.87980769 0.34090909]\n",
            " [0.7        0.51376147 0.94117647 0.85416667 0.         0.39915966\n",
            "  0.23942308 0.38636364]\n",
            " [0.         0.3853211  0.41176471 0.         0.         0.57983193\n",
            "  0.11153846 0.68181818]\n",
            " [0.1        0.2293578  0.52941176 0.         0.         0.6302521\n",
            "  0.05288462 0.09090909]\n",
            " [0.6        1.         1.         0.         0.         0.54621849\n",
            "  0.13076923 1.        ]\n",
            " [0.2        0.06422018 0.         0.54166667 0.03137255 0.24789916\n",
            "  0.6        0.        ]\n",
            " [0.9        0.81651376 0.47058824 0.64583333 0.         0.90336134\n",
            "  0.25096154 0.47727273]\n",
            " [0.9        0.0733945  0.11764706 0.         0.         0.\n",
            "  0.         0.25      ]\n",
            " [1.         0.18348624 0.52941176 1.         0.35294118 0.43697479\n",
            "  0.02788462 0.93181818]\n",
            " [0.2        0.37614679 0.35294118 0.5625     0.         0.60084034\n",
            "  0.19038462 0.11363636]\n",
            " [0.5        0.36697248 0.41176471 0.47916667 0.21960784 0.15546218\n",
            "  0.09903846 0.18181818]\n",
            " [0.1        0.41284404 0.05882353 0.         0.         0.31932773\n",
            "  0.19903846 0.56818182]\n",
            " [0.1        0.11009174 0.35294118 0.64583333 0.         0.33193277\n",
            "  0.16634615 0.02272727]]\n"
          ]
        }
      ],
      "source": [
        "import numpy as np \n",
        "from sklearn import preprocessing\n",
        "\n",
        "# Binarizador de rótulo\n",
        "#lb = preprocessing.LabelBinarizer()\n",
        "\n",
        "# Binarizador de rótulo\n",
        "#lb = preprocessing.LabelBinarizer()\n",
        "escaler = preprocessing.MinMaxScaler()\n",
        "\n",
        "# Pregnancies\n",
        "#pregnancies = lb.transform(base_Treinamento[:,0])  \n",
        "pregnancies = escaler.fit_transform(np.array(base_Testes[:, 0]).reshape(-1,1))\n",
        "\n",
        "\n",
        "# Glucose\n",
        "#glucose = lb.transform(base_Treinamento[:,1])\n",
        "glucose = escaler.fit_transform(np.array(base_Testes[:, 1]).reshape(-1,1))\n",
        "\n",
        "# BloodPressure\n",
        "#bloodpressure = lb.transform(base_Treinamento[:,2])\n",
        "bloodpressure = escaler.fit_transform(np.array(base_Testes[:, 2]).reshape(-1,1))\n",
        "\n",
        "# SkinThickness\n",
        "#skinthickness = lb.transform(base_Treinamento[:,3])\n",
        "skinthickness = escaler.fit_transform(np.array(base_Testes[:, 3]).reshape(-1,1))\n",
        "\n",
        "# Insulin\n",
        "#insulin = lb.transform(base_Treinamento[:,4])\n",
        "insulin = escaler.fit_transform(np.array(base_Testes[:, 4]).reshape(-1,1))\n",
        "\n",
        "\n",
        "# BMI\n",
        "\n",
        "bmi = escaler.fit_transform(np.array(base_Testes[:, 5]).reshape(-1,1))\n",
        "\n",
        "# DiabetesPedigreeFunction\n",
        "\n",
        "diabetespedigreefunction = escaler.fit_transform(np.array(base_Testes[:, 6]).reshape(-1,1))\n",
        "\n",
        "# Age\n",
        "#age = lb.transform(base_Treinamento[:,7])\n",
        "age = escaler.fit_transform(np.array(base_Testes[:, 7]).reshape(-1,1))\n",
        "\n",
        "#Atributos categóricos com valores pequenas e grandes\n",
        "\n",
        "#Concatenação de Atributos (Colunas) \n",
        "atributos_norm = np.column_stack((pregnancies, glucose, bloodpressure, skinthickness, insulin, bmi, diabetespedigreefunction, age))\n",
        "print(\"--------------------------------\")\n",
        "print(\"Atributos de Entrada - Numéricos\")\n",
        "print(\"--------------------------------\")\n",
        "print(atributos_norm)\n"
      ]
    },
    {
      "cell_type": "markdown",
      "metadata": {
        "id": "3QO3B6S3gKyy"
      },
      "source": [
        "### Predição da Base"
      ]
    },
    {
      "cell_type": "code",
      "execution_count": 121,
      "metadata": {
        "colab": {
          "base_uri": "https://localhost:8080/"
        },
        "id": "3ZovGGdmgKyz",
        "outputId": "c51a5716-a7b9-4fd9-c1aa-f122ab7316a0"
      },
      "outputs": [
        {
          "output_type": "stream",
          "name": "stdout",
          "text": [
            "Classificações:  [1. 1. 1. 1. 0. 0. 1. 1. 1. 1. 1. 0. 1. 0. 1. 0. 0. 0. 0. 0. 0.]\n"
          ]
        }
      ],
      "source": [
        "base_Predicao = modelo.predict((atributos_norm))\n",
        "print(\"Classificações: \", base_Predicao)"
      ]
    }
  ],
  "metadata": {
    "colab": {
      "provenance": [],
      "collapsed_sections": []
    },
    "kernelspec": {
      "display_name": "Python 3.10.6 64-bit",
      "language": "python",
      "name": "python3"
    },
    "language_info": {
      "codemirror_mode": {
        "name": "ipython",
        "version": 3
      },
      "file_extension": ".py",
      "mimetype": "text/x-python",
      "name": "python",
      "nbconvert_exporter": "python",
      "pygments_lexer": "ipython3",
      "version": "3.10.6"
    },
    "vscode": {
      "interpreter": {
        "hash": "369f2c481f4da34e4445cda3fffd2e751bd1c4d706f27375911949ba6bb62e1c"
      }
    }
  },
  "nbformat": 4,
  "nbformat_minor": 0
}